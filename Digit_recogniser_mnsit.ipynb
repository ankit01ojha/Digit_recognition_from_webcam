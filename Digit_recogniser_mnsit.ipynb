{
 "cells": [
  {
   "cell_type": "code",
   "execution_count": 1,
   "metadata": {},
   "outputs": [
    {
     "name": "stderr",
     "output_type": "stream",
     "text": [
      "Using TensorFlow backend.\n"
     ]
    }
   ],
   "source": [
    "import numpy as np\n",
    "import pandas as pd\n",
    "import matplotlib.pyplot as plt\n",
    "from keras.datasets import mnist\n",
    "from keras import models\n",
    "from keras import layers\n",
    "from keras.utils import to_categorical\n",
    "from sklearn.model_selection import  train_test_split\n",
    "\n",
    "%matplotlib inline\n"
   ]
  },
  {
   "cell_type": "code",
   "execution_count": 2,
   "metadata": {},
   "outputs": [],
   "source": [
    "train = pd.read_csv('datasets/train.csv')\n",
    "test = pd.read_csv('datasets/test.csv')"
   ]
  },
  {
   "cell_type": "code",
   "execution_count": 3,
   "metadata": {},
   "outputs": [],
   "source": [
    "y_train = train['label']\n",
    "x_train = train.drop(labels = ['label'], axis =1)\n",
    "\n"
   ]
  },
  {
   "cell_type": "code",
   "execution_count": 4,
   "metadata": {},
   "outputs": [],
   "source": [
    "#Normalising the data\n",
    "x_train = x_train/255.0\n",
    "x_train = x_train.values.reshape(-1, 28, 28, 1)\n",
    "\n",
    "test = test/255.0\n",
    "test = test.values.reshape(-1,28,28,1)\n"
   ]
  },
  {
   "cell_type": "code",
   "execution_count": 5,
   "metadata": {},
   "outputs": [],
   "source": [
    "#coverting y to one-hot \n",
    "y_train = to_categorical(y_train, num_classes=10)"
   ]
  },
  {
   "cell_type": "code",
   "execution_count": 6,
   "metadata": {},
   "outputs": [],
   "source": [
    "x_train, x_val, Y_train, Y_val = train_test_split(x_train, y_train, test_size = 0.1, random_state = 2)"
   ]
  },
  {
   "cell_type": "code",
   "execution_count": 7,
   "metadata": {},
   "outputs": [],
   "source": [
    "model = models.Sequential()\n",
    "model.add(layers.Conv2D(32, (3,3) , activation = 'relu', input_shape = (28,28,1)))\n",
    "model.add(layers.MaxPooling2D(3,3))\n",
    "model.add(layers.Dropout(0.5))\n",
    "model.add(layers.Conv2D(64, (3,3), activation = 'relu'))\n",
    "model.add(layers.MaxPooling2D(2,2))\n",
    "model.add(layers.Dropout(0.5))\n",
    "model.add(layers.Conv2D(64, (3,3), activation = 'relu'))\n",
    "model.add(layers.Flatten())\n",
    "model.add(layers.Dense(128, activation = 'relu'))\n",
    "model.add(layers.Dropout(0.5))\n",
    "model.add(layers.Dense(10, activation = 'softmax'))\n"
   ]
  },
  {
   "cell_type": "code",
   "execution_count": 8,
   "metadata": {},
   "outputs": [
    {
     "name": "stdout",
     "output_type": "stream",
     "text": [
      "_________________________________________________________________\n",
      "Layer (type)                 Output Shape              Param #   \n",
      "=================================================================\n",
      "conv2d_1 (Conv2D)            (None, 26, 26, 32)        320       \n",
      "_________________________________________________________________\n",
      "max_pooling2d_1 (MaxPooling2 (None, 8, 8, 32)          0         \n",
      "_________________________________________________________________\n",
      "dropout_1 (Dropout)          (None, 8, 8, 32)          0         \n",
      "_________________________________________________________________\n",
      "conv2d_2 (Conv2D)            (None, 6, 6, 64)          18496     \n",
      "_________________________________________________________________\n",
      "max_pooling2d_2 (MaxPooling2 (None, 3, 3, 64)          0         \n",
      "_________________________________________________________________\n",
      "dropout_2 (Dropout)          (None, 3, 3, 64)          0         \n",
      "_________________________________________________________________\n",
      "conv2d_3 (Conv2D)            (None, 1, 1, 64)          36928     \n",
      "_________________________________________________________________\n",
      "flatten_1 (Flatten)          (None, 64)                0         \n",
      "_________________________________________________________________\n",
      "dense_1 (Dense)              (None, 128)               8320      \n",
      "_________________________________________________________________\n",
      "dropout_3 (Dropout)          (None, 128)               0         \n",
      "_________________________________________________________________\n",
      "dense_2 (Dense)              (None, 10)                1290      \n",
      "=================================================================\n",
      "Total params: 65,354\n",
      "Trainable params: 65,354\n",
      "Non-trainable params: 0\n",
      "_________________________________________________________________\n"
     ]
    }
   ],
   "source": [
    "model.summary()"
   ]
  },
  {
   "cell_type": "code",
   "execution_count": 9,
   "metadata": {},
   "outputs": [],
   "source": [
    "model.compile(optimizer='adam', loss = 'categorical_crossentropy', metrics = ['acc'])"
   ]
  },
  {
   "cell_type": "code",
   "execution_count": 10,
   "metadata": {},
   "outputs": [
    {
     "name": "stdout",
     "output_type": "stream",
     "text": [
      "Train on 37800 samples, validate on 4200 samples\n",
      "Epoch 1/20\n",
      " - 14s - loss: 0.8454 - acc: 0.7138 - val_loss: 0.1679 - val_acc: 0.9507\n",
      "Epoch 2/20\n",
      " - 15s - loss: 0.2689 - acc: 0.9182 - val_loss: 0.1124 - val_acc: 0.9636\n",
      "Epoch 3/20\n",
      " - 13s - loss: 0.1996 - acc: 0.9401 - val_loss: 0.0883 - val_acc: 0.9721\n",
      "Epoch 4/20\n",
      " - 13s - loss: 0.1681 - acc: 0.9505 - val_loss: 0.0787 - val_acc: 0.9757\n",
      "Epoch 5/20\n",
      " - 14s - loss: 0.1498 - acc: 0.9554 - val_loss: 0.0639 - val_acc: 0.9810\n",
      "Epoch 6/20\n",
      " - 14s - loss: 0.1332 - acc: 0.9613 - val_loss: 0.0605 - val_acc: 0.9817\n",
      "Epoch 7/20\n",
      " - 16s - loss: 0.1216 - acc: 0.9642 - val_loss: 0.0561 - val_acc: 0.9814\n",
      "Epoch 8/20\n",
      " - 16s - loss: 0.1114 - acc: 0.9668 - val_loss: 0.0540 - val_acc: 0.9833\n",
      "Epoch 9/20\n",
      " - 15s - loss: 0.1047 - acc: 0.9680 - val_loss: 0.0490 - val_acc: 0.9850\n",
      "Epoch 10/20\n",
      " - 15s - loss: 0.0999 - acc: 0.9701 - val_loss: 0.0480 - val_acc: 0.9850\n",
      "Epoch 11/20\n",
      " - 15s - loss: 0.0936 - acc: 0.9716 - val_loss: 0.0463 - val_acc: 0.9855\n",
      "Epoch 12/20\n",
      " - 15s - loss: 0.0911 - acc: 0.9730 - val_loss: 0.0448 - val_acc: 0.9864\n",
      "Epoch 13/20\n",
      " - 16s - loss: 0.0859 - acc: 0.9742 - val_loss: 0.0400 - val_acc: 0.9888\n",
      "Epoch 14/20\n",
      " - 16s - loss: 0.0837 - acc: 0.9756 - val_loss: 0.0423 - val_acc: 0.9876\n",
      "Epoch 15/20\n",
      " - 17s - loss: 0.0804 - acc: 0.9756 - val_loss: 0.0388 - val_acc: 0.9888\n",
      "Epoch 16/20\n",
      " - 16s - loss: 0.0805 - acc: 0.9765 - val_loss: 0.0440 - val_acc: 0.9886\n",
      "Epoch 17/20\n",
      " - 15s - loss: 0.0772 - acc: 0.9765 - val_loss: 0.0377 - val_acc: 0.9900\n",
      "Epoch 18/20\n",
      " - 15s - loss: 0.0764 - acc: 0.9779 - val_loss: 0.0365 - val_acc: 0.9900\n",
      "Epoch 19/20\n",
      " - 14s - loss: 0.0746 - acc: 0.9785 - val_loss: 0.0402 - val_acc: 0.9883\n",
      "Epoch 20/20\n",
      " - 14s - loss: 0.0716 - acc: 0.9788 - val_loss: 0.0383 - val_acc: 0.9890\n"
     ]
    }
   ],
   "source": [
    "history = model.fit(x_train, Y_train, epochs =20, batch_size=128, validation_data = (x_val, Y_val), verbose=2)"
   ]
  },
  {
   "cell_type": "code",
   "execution_count": 11,
   "metadata": {},
   "outputs": [],
   "source": [
    "results = model.predict(test)"
   ]
  },
  {
   "cell_type": "code",
   "execution_count": 12,
   "metadata": {},
   "outputs": [],
   "source": [
    "results = np.argmax(results, axis=1)\n",
    "results = pd.Series(results, name='label')"
   ]
  },
  {
   "cell_type": "code",
   "execution_count": 13,
   "metadata": {},
   "outputs": [
    {
     "data": {
      "text/plain": [
       "0        2\n",
       "1        0\n",
       "2        9\n",
       "3        0\n",
       "4        3\n",
       "5        7\n",
       "6        0\n",
       "7        3\n",
       "8        0\n",
       "9        3\n",
       "10       5\n",
       "11       7\n",
       "12       4\n",
       "13       0\n",
       "14       4\n",
       "15       3\n",
       "16       3\n",
       "17       1\n",
       "18       9\n",
       "19       0\n",
       "20       9\n",
       "21       1\n",
       "22       1\n",
       "23       5\n",
       "24       7\n",
       "25       4\n",
       "26       2\n",
       "27       7\n",
       "28       4\n",
       "29       7\n",
       "        ..\n",
       "27970    5\n",
       "27971    0\n",
       "27972    4\n",
       "27973    8\n",
       "27974    0\n",
       "27975    3\n",
       "27976    6\n",
       "27977    0\n",
       "27978    1\n",
       "27979    9\n",
       "27980    3\n",
       "27981    1\n",
       "27982    1\n",
       "27983    0\n",
       "27984    4\n",
       "27985    5\n",
       "27986    2\n",
       "27987    2\n",
       "27988    9\n",
       "27989    6\n",
       "27990    7\n",
       "27991    6\n",
       "27992    1\n",
       "27993    9\n",
       "27994    7\n",
       "27995    9\n",
       "27996    7\n",
       "27997    3\n",
       "27998    9\n",
       "27999    2\n",
       "Name: label, Length: 28000, dtype: int64"
      ]
     },
     "execution_count": 13,
     "metadata": {},
     "output_type": "execute_result"
    }
   ],
   "source": [
    "results"
   ]
  },
  {
   "cell_type": "code",
   "execution_count": null,
   "metadata": {},
   "outputs": [],
   "source": []
  }
 ],
 "metadata": {
  "kernelspec": {
   "display_name": "Python 3",
   "language": "python",
   "name": "python3"
  },
  "language_info": {
   "codemirror_mode": {
    "name": "ipython",
    "version": 3
   },
   "file_extension": ".py",
   "mimetype": "text/x-python",
   "name": "python",
   "nbconvert_exporter": "python",
   "pygments_lexer": "ipython3",
   "version": "3.6.7"
  }
 },
 "nbformat": 4,
 "nbformat_minor": 2
}
